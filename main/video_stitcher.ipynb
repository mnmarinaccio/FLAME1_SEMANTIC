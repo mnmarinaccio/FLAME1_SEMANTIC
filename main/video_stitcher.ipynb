{
 "cells": [
  {
   "cell_type": "code",
   "execution_count": 1,
   "id": "fc8f4d83-f22d-4ddd-abc2-471abc87fc74",
   "metadata": {},
   "outputs": [],
   "source": [
    "import os\n",
    "import imageio"
   ]
  },
  {
   "cell_type": "code",
   "execution_count": 2,
   "id": "bd17073f-29bd-4dd9-8086-54246a50203f",
   "metadata": {},
   "outputs": [
    {
     "name": "stderr",
     "output_type": "stream",
     "text": [
      "C:\\Users\\mnmar\\AppData\\Local\\Temp\\ipykernel_13708\\1317198129.py:19: DeprecationWarning: Starting with ImageIO v3 the behavior of this function will switch to that of iio.v3.imread. To keep the current behavior (and make this warning disappear) use `import imageio.v2 as imageio` or call `imageio.v2.imread` directly.\n",
      "  images.append(imageio.imread(image_path))\n"
     ]
    },
    {
     "name": "stdout",
     "output_type": "stream",
     "text": [
      "Video saved at: output_video_UNETmodel.mp4\n"
     ]
    }
   ],
   "source": [
    "# Path to the folder containing images\n",
    "images_folder = './output'\n",
    "\n",
    "# Path to save the output video\n",
    "output_video_path = 'output_video_UNETmodel.mp4'\n",
    "\n",
    "files = os.listdir(images_folder)\n",
    "\n",
    "# List all image files in the folder\n",
    "#image_files = sorted([f for f in os.listdir(images_folder) if f.endswith('.jpg')])\n",
    "image_files = sorted([f for f in files if os.path.isfile(os.path.join(images_folder, f)) and f.endswith('.jpg')],\n",
    "                     key=lambda x: int(x.split('_')[1].split('.')[0]) if '_' in x and '.' in x.split('_')[1] else float('inf'))\n",
    "    \n",
    "# Create a list to hold the image data\n",
    "images = []\n",
    "for image_file in image_files:\n",
    "    image_path = os.path.join(images_folder, image_file)\n",
    "    # Read each image and append it to the list\n",
    "    images.append(imageio.imread(image_path))\n",
    "\n",
    "# Write the images to a video file\n",
    "imageio.mimwrite(output_video_path, images, fps=24)\n",
    "\n",
    "print(f'Video saved at: {output_video_path}')"
   ]
  }
 ],
 "metadata": {
  "kernelspec": {
   "display_name": "Python 3 (ipykernel)",
   "language": "python",
   "name": "python3"
  },
  "language_info": {
   "codemirror_mode": {
    "name": "ipython",
    "version": 3
   },
   "file_extension": ".py",
   "mimetype": "text/x-python",
   "name": "python",
   "nbconvert_exporter": "python",
   "pygments_lexer": "ipython3",
   "version": "3.9.19"
  }
 },
 "nbformat": 4,
 "nbformat_minor": 5
}
